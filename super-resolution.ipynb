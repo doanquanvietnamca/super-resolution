{
 "cells": [
  {
   "cell_type": "code",
   "execution_count": 3,
   "metadata": {},
   "outputs": [
    {
     "name": "stdout",
     "output_type": "stream",
     "text": [
      "Collecting package metadata (repodata.json): done\n",
      "Solving environment: failed\n",
      "Initial quick solve with frozen env failed.  Unfreezing env and trying again.\n",
      "Solving environment: | ^C\n",
      "failed\n",
      "\n",
      "CondaError: KeyboardInterrupt\n",
      "\n",
      "\n",
      "Note: you may need to restart the kernel to use updated packages.\n"
     ]
    }
   ],
   "source": [
    "conda install opencv"
   ]
  },
  {
   "cell_type": "code",
   "execution_count": 1,
   "metadata": {},
   "outputs": [],
   "source": [
    "import cv2\n",
    "import skimage\n",
    "import matplotlib.pyplot as plt\n",
    "import numpy as np"
   ]
  },
  {
   "cell_type": "code",
   "execution_count": 2,
   "metadata": {},
   "outputs": [
    {
     "name": "stderr",
     "output_type": "stream",
     "text": [
      "Using TensorFlow backend.\n"
     ]
    }
   ],
   "source": [
    "from keras.layers import Conv2D, Input\n",
    "from keras.optimizers import SGD, Adam\n",
    "from keras.models import Sequential\n",
    "from skimage.measure import compare_ssim as ssim\n",
    "%matplotlib inline\n",
    "import math"
   ]
  },
  {
   "cell_type": "code",
   "execution_count": 7,
   "metadata": {},
   "outputs": [],
   "source": [
    "import os"
   ]
  },
  {
   "cell_type": "code",
   "execution_count": 6,
   "metadata": {},
   "outputs": [],
   "source": [
    "def pnsn(target, ref):\n",
    "    target = target.astype('float')\n",
    "    ref = ref.astype('float')\n",
    "    diff= (target - ref).flatten('C')\n",
    "    rls = math.sqrt(np.mean(diff**2))\n",
    "    return 20*math.log10(255/rls)\n",
    "def mse(target, ref):\n",
    "    err =  np.sum((target.astype('float') - ref.astype('float'))**2)\n",
    "    err/= float(target.shape[0]*target.shape[1])\n",
    "    return err\n",
    "def scores(target,ref):\n",
    "    score = []\n",
    "    score.append(pnsn(target, ref))\n",
    "    score.append(mse(target,ref))\n",
    "    score.append(ssim(target, ref, multichannel=True))\n",
    "    return score\n"
   ]
  },
  {
   "cell_type": "code",
   "execution_count": 17,
   "metadata": {},
   "outputs": [],
   "source": [
    "def preparedata(path, factor):\n",
    "    for file in list(os.listdir(path)):\n",
    "        img = cv2.imread(str(path + '/' + file))\n",
    "        \n",
    "        h,v,c = img.shape\n",
    "        newheight = h/factor\n",
    "        new_weight = v/factor\n",
    "        #make lower resolution\n",
    "        img = cv2.resize(img, (round(newheight), round(new_weight)), interpolation= cv2.INTER_LINEAR )\n",
    "        #resize image\n",
    "        img = cv2.resize(img, (v,h), interpolation = cv2.INTER_LINEAR)\n",
    "        \n",
    "        print('low resolution image {}'.format(file))\n",
    "        cv2.imwrite(str('images/'+ file), img)\n",
    "        "
   ]
  },
  {
   "cell_type": "code",
   "execution_count": 18,
   "metadata": {},
   "outputs": [
    {
     "name": "stdout",
     "output_type": "stream",
     "text": [
      "low resolution image barbara.bmp\n",
      "low resolution image zebra.bmp\n",
      "low resolution image head_GT.bmp\n",
      "low resolution image man.bmp\n",
      "low resolution image monarch.bmp\n",
      "low resolution image ppt3.bmp\n",
      "low resolution image comic.bmp\n",
      "low resolution image bird_GT.bmp\n",
      "low resolution image woman_GT.bmp\n",
      "low resolution image pepper.bmp\n",
      "low resolution image lenna.bmp\n",
      "low resolution image baboon.bmp\n",
      "low resolution image baby_GT.bmp\n",
      "low resolution image flowers.bmp\n",
      "low resolution image foreman.bmp\n",
      "low resolution image butterfly_GT.bmp\n",
      "low resolution image face.bmp\n"
     ]
    }
   ],
   "source": [
    "preparedata('src/',2)"
   ]
  },
  {
   "cell_type": "code",
   "execution_count": 21,
   "metadata": {},
   "outputs": [
    {
     "name": "stdout",
     "output_type": "stream",
     "text": [
      "barbara.bmp\n",
      "25.124593162144087\n",
      "599.435279224537\n",
      "0.7932672563193751\n",
      "\n",
      "zebra.bmp\n",
      "26.65463642510058\n",
      "421.44215409861823\n",
      "0.8719230107344605\n",
      "\n",
      "head_GT.bmp\n",
      "31.020502848237534\n",
      "154.2237755102041\n",
      "0.8011121330733371\n",
      "\n",
      "man.bmp\n",
      "27.22646369798821\n",
      "369.4496383666992\n",
      "0.8214950645456561\n",
      "\n",
      "monarch.bmp\n",
      "29.431138813904106\n",
      "222.37590789794922\n",
      "0.9370342198420539\n",
      "\n",
      "ppt3.bmp\n",
      "24.917710102455757\n",
      "628.681390912444\n",
      "0.9278170551267487\n",
      "\n",
      "comic.bmp\n",
      "23.20352683159616\n",
      "932.929728531856\n",
      "0.8166819227706056\n",
      "\n",
      "bird_GT.bmp\n",
      "32.896644728720005\n",
      "100.12375819830247\n",
      "0.9533644866026473\n",
      "\n",
      "woman_GT.bmp\n",
      "28.699005498662004\n",
      "263.20920032639737\n",
      "0.9282820418546317\n",
      "\n",
      "pepper.bmp\n",
      "29.88947161686106\n",
      "200.1033935546875\n",
      "0.8357937568464359\n",
      "\n",
      "lenna.bmp\n",
      "31.47349297867539\n",
      "138.94800567626953\n",
      "0.8460989200521499\n",
      "\n",
      "baboon.bmp\n",
      "22.207699325549033\n",
      "1173.3610916666667\n",
      "0.6489457038303842\n",
      "\n",
      "baby_GT.bmp\n",
      "34.371806409661986\n",
      "71.28874588012695\n",
      "0.9356987872724932\n",
      "\n",
      "flowers.bmp\n",
      "26.96164122553364\n",
      "392.6788342541436\n",
      "0.8609247459782622\n",
      "\n",
      "foreman.bmp\n",
      "30.740575374943198\n",
      "164.49173374368686\n",
      "0.9356199447791478\n",
      "\n",
      "butterfly_GT.bmp\n",
      "24.782076560337416\n",
      "648.6254119873047\n",
      "0.8791344763843051\n",
      "\n",
      "face.bmp\n",
      "30.99220650287191\n",
      "155.23189718546524\n",
      "0.8008439492289884\n",
      "\n"
     ]
    }
   ],
   "source": [
    "for file in list(os.listdir('images/')):\n",
    "    target = cv2.imread('images/{}'.format(file))\n",
    "    ref = cv2.imread('src/{}'.format(file))\n",
    "    score = scores(target, ref)\n",
    "    print('{}\\nPNSR:{:5}\\nMSE{:5}\\n{:5}\\n'.format(file, score[0], score[1], score[2]))"
   ]
  },
  {
   "cell_type": "code",
   "execution_count": null,
   "metadata": {},
   "outputs": [],
   "source": []
  }
 ],
 "metadata": {
  "kernelspec": {
   "display_name": "Python 3",
   "language": "python",
   "name": "python3"
  },
  "language_info": {
   "codemirror_mode": {
    "name": "ipython",
    "version": 3
   },
   "file_extension": ".py",
   "mimetype": "text/x-python",
   "name": "python",
   "nbconvert_exporter": "python",
   "pygments_lexer": "ipython3",
   "version": "3.7.3"
  }
 },
 "nbformat": 4,
 "nbformat_minor": 2
}
